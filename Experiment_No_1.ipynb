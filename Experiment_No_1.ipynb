{
  "nbformat": 4,
  "nbformat_minor": 0,
  "metadata": {
    "colab": {
      "provenance": [],
      "authorship_tag": "ABX9TyN7MKj80c52TseNWaE3bohi",
      "include_colab_link": true
    },
    "kernelspec": {
      "name": "python3",
      "display_name": "Python 3"
    },
    "language_info": {
      "name": "python"
    }
  },
  "cells": [
    {
      "cell_type": "markdown",
      "metadata": {
        "id": "view-in-github",
        "colab_type": "text"
      },
      "source": [
        "<a href=\"https://colab.research.google.com/github/KetanKulkarni45/Machine-Learning/blob/main/Experiment_No_1.ipynb\" target=\"_parent\"><img src=\"https://colab.research.google.com/assets/colab-badge.svg\" alt=\"Open In Colab\"/></a>"
      ]
    },
    {
      "cell_type": "code",
      "execution_count": null,
      "metadata": {
        "id": "-C9thaVvcZQ5"
      },
      "outputs": [],
      "source": []
    },
    {
      "cell_type": "code",
      "source": [
        "len=int(input(\"Enter Length:\"))\n",
        "hei=int(input(\"Enter Height:\"))\n",
        "area=0.5*len*hei\n",
        "print(\"Area of Triangle\", area)\n"
      ],
      "metadata": {
        "id": "yCHG4PtCedIf"
      },
      "execution_count": null,
      "outputs": []
    }
  ]
}